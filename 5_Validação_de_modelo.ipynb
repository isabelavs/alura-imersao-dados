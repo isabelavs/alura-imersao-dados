{
  "nbformat": 4,
  "nbformat_minor": 0,
  "metadata": {
    "colab": {
      "name": "5: Validação de modelo.ipynb",
      "provenance": [],
      "authorship_tag": "ABX9TyOQAp2fhJQQgPHe2B43tSWX",
      "include_colab_link": true
    },
    "kernelspec": {
      "name": "python3",
      "display_name": "Python 3"
    }
  },
  "cells": [
    {
      "cell_type": "markdown",
      "metadata": {
        "id": "view-in-github",
        "colab_type": "text"
      },
      "source": [
        "<a href=\"https://colab.research.google.com/github/isabelavs/alura-imersao-dados/blob/main/5_Valida%C3%A7%C3%A3o_de_modelo.ipynb\" target=\"_parent\"><img src=\"https://colab.research.google.com/assets/colab-badge.svg\" alt=\"Open In Colab\"/></a>"
      ]
    },
    {
      "cell_type": "markdown",
      "metadata": {
        "id": "4tmx6i6wWeZt"
      },
      "source": [
        "# Aula 5: Validação de modelo e Overfit"
      ]
    },
    {
      "cell_type": "code",
      "metadata": {
        "id": "KL44pg7kWigk"
      },
      "source": [
        "import pandas as pd\n",
        "\n",
        "fonte = \"https://github.com/alura-cursos/imersao-dados-2-2020/blob/master/MICRODADOS_ENEM_2019_SAMPLE_43278.csv?raw=true\"\n",
        "\n",
        "dados = pd.read_csv(fonte)"
      ],
      "execution_count": 1,
      "outputs": []
    },
    {
      "cell_type": "code",
      "metadata": {
        "id": "GtGNWRy2WkV-"
      },
      "source": [
        "import seaborn as sns\n",
        "import matplotlib.pyplot as plt"
      ],
      "execution_count": 2,
      "outputs": []
    },
    {
      "cell_type": "code",
      "metadata": {
        "id": "H2mtnUj_WnA_"
      },
      "source": [
        "provas = [\"NU_NOTA_REDACAO\", \"NU_NOTA_CN\", \"NU_NOTA_CH\", \"NU_NOTA_MT\", \"NU_NOTA_LC\"]\n",
        "\n",
        "dados[\"NU_NOTA_TOTAL\"] = dados[provas].sum(axis = 1)\n",
        "\n",
        "dados_sem_notas_zero = dados.query(\"NU_NOTA_TOTAL != 0\")"
      ],
      "execution_count": 4,
      "outputs": []
    },
    {
      "cell_type": "code",
      "metadata": {
        "id": "TREmIdwDWpTz"
      },
      "source": [
        "provas_entrada = [\"NU_NOTA_CN\", \"NU_NOTA_CH\", \"NU_NOTA_LC\", \"NU_NOTA_REDACAO\"]\n",
        "prova_saida = \"NU_NOTA_MT\"\n",
        "\n",
        "dados_sem_notas_zero = dados_sem_notas_zero[provas].dropna()\n",
        "\n",
        "notas_entrada = dados_sem_notas_zero[provas_entrada]\n",
        "notas_saida = dados_sem_notas_zero[prova_saida]"
      ],
      "execution_count": 5,
      "outputs": []
    },
    {
      "cell_type": "code",
      "metadata": {
        "id": "O5iL0-pbXJ_S"
      },
      "source": [
        "x = notas_entrada\n",
        "y = notas_saida\n",
        "\n",
        "from sklearn.model_selection import train_test_split\n",
        "\n",
        "SEED = 4321\n",
        "\n",
        "x_treino, x_teste, y_treino, y_teste = train_test_split(x, y, test_size=0.25,\n",
        "                                                        random_state=SEED)"
      ],
      "execution_count": 6,
      "outputs": []
    },
    {
      "cell_type": "code",
      "metadata": {
        "id": "Rs5VLKO8XM9d",
        "outputId": "4ee25496-0b07-4c1e-e548-714a1f5859af",
        "colab": {
          "base_uri": "https://localhost:8080/",
          "height": 91
        }
      },
      "source": [
        "from sklearn.svm import LinearSVR\n",
        "from sklearn.metrics import mean_squared_error\n",
        "\n",
        "modelo = LinearSVR(random_state=SEED)\n",
        "modelo.fit(x_treino, y_treino)\n",
        "predicoes_mt = modelo.predict(x_teste)\n",
        "mean_squared_error(y_teste, predicoes_mt)"
      ],
      "execution_count": 9,
      "outputs": [
        {
          "output_type": "stream",
          "text": [
            "/usr/local/lib/python3.6/dist-packages/sklearn/svm/_base.py:947: ConvergenceWarning: Liblinear failed to converge, increase the number of iterations.\n",
            "  \"the number of iterations.\", ConvergenceWarning)\n"
          ],
          "name": "stderr"
        },
        {
          "output_type": "execute_result",
          "data": {
            "text/plain": [
              "6604.415306219566"
            ]
          },
          "metadata": {
            "tags": []
          },
          "execution_count": 9
        }
      ]
    },
    {
      "cell_type": "code",
      "metadata": {
        "id": "bL4u4XWPXQLF",
        "outputId": "43a30a2b-6da7-4a57-a3c1-f3421f3594ac",
        "colab": {
          "base_uri": "https://localhost:8080/",
          "height": 35
        }
      },
      "source": [
        "from sklearn.tree import DecisionTreeRegressor\n",
        "\n",
        "x_treino, x_teste, y_treino, y_teste = train_test_split(x, y, test_size=0.25)\n",
        "modelo_arvore = DecisionTreeRegressor(max_depth = 3)\n",
        "modelo_arvore.fit(x_treino, y_treino)\n",
        "predicoes_mt_arvore = modelo_arvore.predict(x_teste)\n",
        "mean_squared_error(y_teste, predicoes_mt_arvore)"
      ],
      "execution_count": 15,
      "outputs": [
        {
          "output_type": "execute_result",
          "data": {
            "text/plain": [
              "5971.240593640753"
            ]
          },
          "metadata": {
            "tags": []
          },
          "execution_count": 15
        }
      ]
    },
    {
      "cell_type": "code",
      "metadata": {
        "id": "lOW3EJ0LYtDj",
        "outputId": "6ffc55b7-4697-4579-8f25-5bb6b2891c29",
        "colab": {
          "base_uri": "https://localhost:8080/",
          "height": 53
        }
      },
      "source": [
        "from sklearn.model_selection import cross_validate\n",
        "\n",
        "modelo_arvore = DecisionTreeRegressor(max_depth=2)\n",
        "resultado = cross_validate(modelo_arvore, x, y, scoring=\"neg_mean_squared_error\")\n",
        "resultado[\"test_score\"]*-1"
      ],
      "execution_count": 21,
      "outputs": [
        {
          "output_type": "execute_result",
          "data": {
            "text/plain": [
              "array([6317.91361711, 6390.69330384, 6519.97057993, 6702.12730215,\n",
              "       6851.82019408])"
            ]
          },
          "metadata": {
            "tags": []
          },
          "execution_count": 21
        }
      ]
    },
    {
      "cell_type": "code",
      "metadata": {
        "id": "MSg81kVmcNBe",
        "outputId": "3fce0036-ca81-473e-fe89-5760df5cea24",
        "colab": {
          "base_uri": "https://localhost:8080/",
          "height": 35
        }
      },
      "source": [
        "media = (resultado[\"test_score\"]*-1).mean()\n",
        "media"
      ],
      "execution_count": 23,
      "outputs": [
        {
          "output_type": "execute_result",
          "data": {
            "text/plain": [
              "6556.50499941891"
            ]
          },
          "metadata": {
            "tags": []
          },
          "execution_count": 23
        }
      ]
    },
    {
      "cell_type": "code",
      "metadata": {
        "id": "h-uHGW1Qeza3",
        "outputId": "9eb1cfa3-2399-4a14-9ea8-25d59e8178e2",
        "colab": {
          "base_uri": "https://localhost:8080/",
          "height": 71
        }
      },
      "source": [
        "resultado = cross_validate(modelo_arvore, x, y, cv=10, scoring=\"neg_mean_squared_error\")\n",
        "resultado[\"test_score\"]*-1"
      ],
      "execution_count": 24,
      "outputs": [
        {
          "output_type": "execute_result",
          "data": {
            "text/plain": [
              "array([6118.6911947 , 6536.09830186, 6338.64260896, 6456.70685686,\n",
              "       6234.97203593, 6794.25120283, 6713.45694262, 6693.04880297,\n",
              "       6610.58461646, 7085.82408339])"
            ]
          },
          "metadata": {
            "tags": []
          },
          "execution_count": 24
        }
      ]
    },
    {
      "cell_type": "code",
      "metadata": {
        "id": "hMYdoMaze57G",
        "outputId": "46998daf-2675-4275-e018-99a940d6fdbe",
        "colab": {
          "base_uri": "https://localhost:8080/",
          "height": 35
        }
      },
      "source": [
        "desvio_padrao = (resultado[\"test_score\"]*-1).std()\n",
        "lim_inferior = media - (2 * desvio_padrao)\n",
        "lim_superior = media + (2 * desvio_padrao)\n",
        "\n",
        "print(f\"Intervalo de confiança {lim_inferior} - {lim_superior}\")"
      ],
      "execution_count": 26,
      "outputs": [
        {
          "output_type": "stream",
          "text": [
            "Intervalo de confiança 6013.999884296945 - 7099.010114540875\n"
          ],
          "name": "stdout"
        }
      ]
    },
    {
      "cell_type": "code",
      "metadata": {
        "id": "J6rQxekvgwKP"
      },
      "source": [
        "def calcula_mse(resultado):\n",
        "  media = (resultado[\"test_score\"]*-1).mean()\n",
        "  desvio_padrao = (resultado[\"test_score\"]*-1).std()\n",
        "  lim_inferior = media - (2 * desvio_padrao)\n",
        "  lim_superior = media + (2 * desvio_padrao)\n",
        "\n",
        "  print(f\"Intervalo de confiança {lim_inferior} - {lim_superior}\")"
      ],
      "execution_count": 29,
      "outputs": []
    },
    {
      "cell_type": "code",
      "metadata": {
        "id": "-OXY7LBBhND1",
        "outputId": "48486d32-e9b6-43b5-8f99-9583df26612c",
        "colab": {
          "base_uri": "https://localhost:8080/",
          "height": 35
        }
      },
      "source": [
        "from sklearn.model_selection import cross_validate\n",
        "from sklearn.model_selection import KFold\n",
        "import numpy as np\n",
        "\n",
        "SEED = 1232\n",
        "np.random.seed(SEED)\n",
        "\n",
        "pastes = KFold(n_splits=10, shuffle=True)\n",
        "modelo_arvore = DecisionTreeRegressor(max_depth=3)\n",
        "resultado = cross_validate(modelo_arvore, x, y, cv=pastes, scoring=\"neg_mean_squared_error\")\n",
        "calcula_mse(resultado)"
      ],
      "execution_count": 37,
      "outputs": [
        {
          "output_type": "stream",
          "text": [
            "Intervalo de confiança 5469.869010788644 - 5747.840733538392\n"
          ],
          "name": "stdout"
        }
      ]
    },
    {
      "cell_type": "code",
      "metadata": {
        "id": "wTmDzsVshPo2"
      },
      "source": [
        "def regressor_arvore(nivel):\n",
        "  SEED = 1232\n",
        "  np.random.seed(SEED)\n",
        "  pastes = KFold(n_splits=10, shuffle=True)\n",
        "  modelo_arvore = DecisionTreeRegressor(max_depth=nivel)\n",
        "  resultado = cross_validate(modelo_arvore, x, y, cv=pastes, scoring=\"neg_mean_squared_error\",\n",
        "                             return_train_score=True)\n",
        "  print(f\"Treino = {(resultado['train_score']*-1).mean()} | Teste = {(resultado['test_score']*-1).mean()}\")"
      ],
      "execution_count": 49,
      "outputs": []
    },
    {
      "cell_type": "code",
      "metadata": {
        "id": "HikmkqvQjQat",
        "outputId": "ffb2bc0f-c72f-4964-dfb3-16e12d7e50b7",
        "colab": {
          "base_uri": "https://localhost:8080/",
          "height": 374
        }
      },
      "source": [
        "for i in range(1, 21):\n",
        "  regressor_arvore(i)"
      ],
      "execution_count": 50,
      "outputs": [
        {
          "output_type": "stream",
          "text": [
            "Treino = 7844.952652412207 | Teste = 7857.871770206351\n",
            "Treino = 6527.783475408351 | Teste = 6556.886287657656\n",
            "Treino = 6021.275229419074 | Teste = 6054.767567442071\n",
            "Treino = 5760.834451245899 | Teste = 5815.707286597402\n",
            "Treino = 5598.158955426787 | Teste = 5675.196789060743\n",
            "Treino = 5469.677369145868 | Teste = 5593.304363812442\n",
            "Treino = 5369.458309852723 | Teste = 5542.730565094406\n",
            "Treino = 5276.16965707928 | Teste = 5543.4809609730655\n",
            "Treino = 5166.713159932668 | Teste = 5608.854872163518\n",
            "Treino = 5022.598049115693 | Teste = 5763.155248722027\n",
            "Treino = 4833.560706021637 | Teste = 5960.052989742388\n",
            "Treino = 4598.125022484774 | Teste = 6216.545956232321\n",
            "Treino = 4316.3791662866815 | Teste = 6519.376217056128\n",
            "Treino = 4000.6209880837496 | Teste = 6849.577463417832\n",
            "Treino = 3655.8197526274853 | Teste = 7220.55475782693\n",
            "Treino = 3295.832684540846 | Teste = 7634.732578617249\n",
            "Treino = 2931.7212612043877 | Teste = 8068.112294631386\n",
            "Treino = 2575.59534021339 | Teste = 8449.25417707589\n",
            "Treino = 2233.574203221172 | Teste = 8830.854912793633\n",
            "Treino = 1913.8727239705706 | Teste = 9133.407776329444\n"
          ],
          "name": "stdout"
        }
      ]
    },
    {
      "cell_type": "markdown",
      "metadata": {
        "id": "lwFZR-XwgoZo"
      },
      "source": [
        "Desafio 01: Pesquisar sobre intervalo de confiança.\n",
        "\n",
        "Desafio 02: Testar outros parâmetros da árvode de decisão.\n",
        "\n",
        "Desafio 03: Procurar outras formar de realizar os ajustes de parâmetros com o sklearn.\n",
        "\n",
        "Desafio 04: Pesquisar o que é o problema de underfit.\n",
        "\n",
        "Desafio 05: Plotar um gráfico do score em função do parâmetro (uma linha, ou duas com treino e teste)"
      ]
    },
    {
      "cell_type": "code",
      "metadata": {
        "id": "kEDxRXRCjrox"
      },
      "source": [
        ""
      ],
      "execution_count": null,
      "outputs": []
    }
  ]
}